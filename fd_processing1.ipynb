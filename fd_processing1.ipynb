{
 "cells": [
  {
   "cell_type": "code",
   "execution_count": 14,
   "id": "ec40a851",
   "metadata": {},
   "outputs": [
    {
     "name": "stdout",
     "output_type": "stream",
     "text": [
      "                         ID  Rating  Rating_100\n",
      "Office    Department                           \n",
      "New Delhi Finance     U2F26     3.4        34.0\n",
      "          Marketing   U2M61     3.9        39.0\n",
      "          Sales       U1S15     2.8        28.0\n",
      "          Sales       U1S51     4.6        46.0\n",
      "          HR          U1H78     3.8        38.0\n",
      "          Marketing   U3M65     5.0        50.0\n",
      "          Finance     U2F25     4.4        44.0\n",
      "          HR          U1H39     4.2        42.0\n",
      "          Sales       U2S99     3.6        36.0\n",
      "          Finance     U3F41     4.9        49.0\n"
     ]
    }
   ],
   "source": [
    "import pandas as pd\n",
    "df = pd.read_csv('https://media-doselect.s3.amazonaws.com/generic/NMgEjwkAEGGQZBoNYGr9Ld7w0/rating.csv',index_col=[2,1])\n",
    "df[\"Rating_100\"] = df.Rating*10\n",
    "#df1 = df.xs(\"New Delhi\", axis = 0, level = 0)\n",
    "# You can use XS method or below. XS will ommit Office hierarchy column while showing the result while LOC \n",
    "# does not ommit it.\n",
    "\n",
    "df1 = df.loc[df.index.get_level_values('Office') == 'New Delhi']\n",
    "\n",
    "#df1 = df[df[\"Office\"]=='New Delhi']\n",
    "print(df1.head(10))"
   ]
  },
  {
   "cell_type": "code",
   "execution_count": null,
   "id": "2147cdb9",
   "metadata": {},
   "outputs": [],
   "source": []
  }
 ],
 "metadata": {
  "kernelspec": {
   "display_name": "Python 3 (ipykernel)",
   "language": "python",
   "name": "python3"
  },
  "language_info": {
   "codemirror_mode": {
    "name": "ipython",
    "version": 3
   },
   "file_extension": ".py",
   "mimetype": "text/x-python",
   "name": "python",
   "nbconvert_exporter": "python",
   "pygments_lexer": "ipython3",
   "version": "3.11.4"
  }
 },
 "nbformat": 4,
 "nbformat_minor": 5
}
