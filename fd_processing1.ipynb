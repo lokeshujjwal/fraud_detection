{
 "cells": [
  {
   "cell_type": "code",
   "execution_count": 2,
   "id": "ec40a851",
   "metadata": {},
   "outputs": [
    {
     "name": "stdout",
     "output_type": "stream",
     "text": [
      "                         ID  Rating  Rating_100\n",
      "Office    Department                           \n",
      "New Delhi Finance     U2F26     3.4        34.0\n",
      "          Marketing   U2M61     3.9        39.0\n",
      "          Sales       U1S15     2.8        28.0\n",
      "Mumbai    HR          U1H87     2.1        21.0\n",
      "New Delhi Sales       U1S51     4.6        46.0\n",
      "          HR          U1H78     3.8        38.0\n",
      "          Marketing   U3M65     5.0        50.0\n",
      "Bangalore Marketing   U3M44     2.1        21.0\n",
      "          Sales       U3S75     4.3        43.0\n",
      "          HR          U2H84     4.3        43.0\n",
      "Mumbai    Sales       U2S84     3.6        36.0\n",
      "          Sales       U1S50     4.7        47.0\n",
      "New Delhi Finance     U2F25     4.4        44.0\n",
      "Bangalore Sales       U1S75     3.0        30.0\n",
      "New Delhi HR          U1H39     4.2        42.0\n",
      "Bangalore Finance     U2F53     2.7        27.0\n",
      "          Finance     U1F53     3.7        37.0\n",
      "New Delhi Sales       U2S99     3.6        36.0\n",
      "          Finance     U3F41     4.9        49.0\n",
      "Bangalore Finance     U1F28     3.2        32.0\n"
     ]
    }
   ],
   "source": [
    "import pandas as pd\n",
    "df = pd.read_csv('https://media-doselect.s3.amazonaws.com/generic/NMgEjwkAEGGQZBoNYGr9Ld7w0/rating.csv',index_col=[2,1])\n",
    "df[\"Rating_100\"] = df.Rating*10\n",
    "print(df.head(20))"
   ]
  },
  {
   "cell_type": "code",
   "execution_count": null,
   "id": "2147cdb9",
   "metadata": {},
   "outputs": [],
   "source": []
  }
 ],
 "metadata": {
  "kernelspec": {
   "display_name": "Python 3 (ipykernel)",
   "language": "python",
   "name": "python3"
  },
  "language_info": {
   "codemirror_mode": {
    "name": "ipython",
    "version": 3
   },
   "file_extension": ".py",
   "mimetype": "text/x-python",
   "name": "python",
   "nbconvert_exporter": "python",
   "pygments_lexer": "ipython3",
   "version": "3.11.4"
  }
 },
 "nbformat": 4,
 "nbformat_minor": 5
}
